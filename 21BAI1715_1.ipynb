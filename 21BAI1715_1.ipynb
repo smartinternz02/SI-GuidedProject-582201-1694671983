{
  "cells": [
    {
      "cell_type": "markdown",
      "metadata": {
        "id": "v3BtWhDKDOJk"
      },
      "source": [
        "Name: Krishna Vyas R\n",
        "\n",
        "Registration Number: 21BAI1715"
      ]
    },
    {
      "cell_type": "code",
      "execution_count": 3,
      "metadata": {
        "id": "T552mP_D5x-_"
      },
      "outputs": [],
      "source": [
        "import numpy as np\n",
        "import pandas as pd"
      ]
    },
    {
      "cell_type": "markdown",
      "metadata": {
        "id": "6NPZsw_p6GgZ"
      },
      "source": [
        "Task - 1 \n",
        "Create a pandas dataframe (DataFrame name as 'df')"
      ]
    },
    {
      "cell_type": "code",
      "execution_count": 5,
      "metadata": {
        "colab": {
          "base_uri": "https://localhost:8080/",
          "height": 363
        },
        "id": "nHkjzf2W6G5F",
        "outputId": "dfa97b56-3de0-472a-fe4a-17a48738e727"
      },
      "outputs": [
        {
          "data": {
            "text/html": [
              "<div>\n",
              "<style scoped>\n",
              "    .dataframe tbody tr th:only-of-type {\n",
              "        vertical-align: middle;\n",
              "    }\n",
              "\n",
              "    .dataframe tbody tr th {\n",
              "        vertical-align: top;\n",
              "    }\n",
              "\n",
              "    .dataframe thead th {\n",
              "        text-align: right;\n",
              "    }\n",
              "</style>\n",
              "<table border=\"1\" class=\"dataframe\">\n",
              "  <thead>\n",
              "    <tr style=\"text-align: right;\">\n",
              "      <th></th>\n",
              "      <th>Name</th>\n",
              "      <th>Student_ID</th>\n",
              "      <th>University</th>\n",
              "      <th>Age</th>\n",
              "      <th>Branch</th>\n",
              "    </tr>\n",
              "  </thead>\n",
              "  <tbody>\n",
              "    <tr>\n",
              "      <th>0</th>\n",
              "      <td>Vyas</td>\n",
              "      <td>1</td>\n",
              "      <td>VIT</td>\n",
              "      <td>18.0</td>\n",
              "      <td>BAI</td>\n",
              "    </tr>\n",
              "    <tr>\n",
              "      <th>1</th>\n",
              "      <td>Hanuma</td>\n",
              "      <td>2</td>\n",
              "      <td>IIT</td>\n",
              "      <td>19.0</td>\n",
              "      <td>CSE</td>\n",
              "    </tr>\n",
              "    <tr>\n",
              "      <th>2</th>\n",
              "      <td>Aditya</td>\n",
              "      <td>3</td>\n",
              "      <td>SRM</td>\n",
              "      <td>20.0</td>\n",
              "      <td>BPS</td>\n",
              "    </tr>\n",
              "    <tr>\n",
              "      <th>3</th>\n",
              "      <td>Yashodhan</td>\n",
              "      <td>4</td>\n",
              "      <td>BITS</td>\n",
              "      <td>21.0</td>\n",
              "      <td>BMS</td>\n",
              "    </tr>\n",
              "    <tr>\n",
              "      <th>4</th>\n",
              "      <td>Shobith</td>\n",
              "      <td>5</td>\n",
              "      <td>BITS</td>\n",
              "      <td>20.0</td>\n",
              "      <td>BAI</td>\n",
              "    </tr>\n",
              "    <tr>\n",
              "      <th>5</th>\n",
              "      <td>Aasrith</td>\n",
              "      <td>6</td>\n",
              "      <td>VIT</td>\n",
              "      <td>18.0</td>\n",
              "      <td>BAI</td>\n",
              "    </tr>\n",
              "    <tr>\n",
              "      <th>6</th>\n",
              "      <td>Nidhish</td>\n",
              "      <td>7</td>\n",
              "      <td>IIT</td>\n",
              "      <td>19.0</td>\n",
              "      <td>CSE</td>\n",
              "    </tr>\n",
              "    <tr>\n",
              "      <th>7</th>\n",
              "      <td>Hrishi</td>\n",
              "      <td>8</td>\n",
              "      <td>SRM</td>\n",
              "      <td>20.0</td>\n",
              "      <td>BPS</td>\n",
              "    </tr>\n",
              "    <tr>\n",
              "      <th>8</th>\n",
              "      <td>Vignesh</td>\n",
              "      <td>9</td>\n",
              "      <td>VIT</td>\n",
              "      <td>21.0</td>\n",
              "      <td>BMS</td>\n",
              "    </tr>\n",
              "    <tr>\n",
              "      <th>9</th>\n",
              "      <td>Charan</td>\n",
              "      <td>10</td>\n",
              "      <td>IIT</td>\n",
              "      <td>NaN</td>\n",
              "      <td>BRS</td>\n",
              "    </tr>\n",
              "  </tbody>\n",
              "</table>\n",
              "</div>"
            ],
            "text/plain": [
              "        Name  Student_ID University   Age Branch\n",
              "0       Vyas           1        VIT  18.0    BAI\n",
              "1     Hanuma           2        IIT  19.0    CSE\n",
              "2     Aditya           3        SRM  20.0    BPS\n",
              "3  Yashodhan           4       BITS  21.0    BMS\n",
              "4    Shobith           5       BITS  20.0    BAI\n",
              "5    Aasrith           6        VIT  18.0    BAI\n",
              "6    Nidhish           7        IIT  19.0    CSE\n",
              "7     Hrishi           8        SRM  20.0    BPS\n",
              "8    Vignesh           9        VIT  21.0    BMS\n",
              "9     Charan          10        IIT   NaN    BRS"
            ]
          },
          "execution_count": 5,
          "metadata": {},
          "output_type": "execute_result"
        }
      ],
      "source": [
        "data = {\n",
        "    'Name' : ['Vyas','Hanuma','Aditya','Yashodhan','Shobith','Aasrith','Nidhish','Hrishi','Vignesh','Charan'],\n",
        "    'Student_ID' : [1,2,3,4,5,6,7,8,9,10],\n",
        "    'University' : ['VIT', 'IIT', 'SRM', 'BITS','BITS','VIT', 'IIT', 'SRM', 'VIT','IIT'],\n",
        "    'Age':[18,19,20,21,20,18,19,20,21,np.nan],\n",
        "    'Branch':['BAI','CSE','BPS','BMS','BAI','BAI','CSE','BPS','BMS','BRS'],\n",
        "}\n",
        "df=pd.DataFrame(data)\n",
        "df\n"
      ]
    },
    {
      "cell_type": "markdown",
      "metadata": {
        "id": "s8uj2ZIr-Y0u"
      },
      "source": [
        "Task- 2 \n",
        "Check the info of 'df'"
      ]
    },
    {
      "cell_type": "code",
      "execution_count": 6,
      "metadata": {
        "colab": {
          "base_uri": "https://localhost:8080/"
        },
        "id": "IcBgXriV-V7Z",
        "outputId": "a449c62a-713a-4c0d-fa15-657eed5036a6"
      },
      "outputs": [
        {
          "name": "stdout",
          "output_type": "stream",
          "text": [
            "<class 'pandas.core.frame.DataFrame'>\n",
            "RangeIndex: 10 entries, 0 to 9\n",
            "Data columns (total 5 columns):\n",
            " #   Column      Non-Null Count  Dtype  \n",
            "---  ------      --------------  -----  \n",
            " 0   Name        10 non-null     object \n",
            " 1   Student_ID  10 non-null     int64  \n",
            " 2   University  10 non-null     object \n",
            " 3   Age         9 non-null      float64\n",
            " 4   Branch      10 non-null     object \n",
            "dtypes: float64(1), int64(1), object(3)\n",
            "memory usage: 532.0+ bytes\n"
          ]
        }
      ],
      "source": [
        "df.info()"
      ]
    },
    {
      "cell_type": "markdown",
      "metadata": {
        "id": "1zeqabo8-eFe"
      },
      "source": [
        "Task 3- \n",
        "Check the descriptive statistics of 'df'\n"
      ]
    },
    {
      "cell_type": "code",
      "execution_count": 7,
      "metadata": {
        "colab": {
          "base_uri": "https://localhost:8080/",
          "height": 300
        },
        "id": "7panQCSB-gqJ",
        "outputId": "ec01b097-d39a-495f-aef8-bc9bc4cd911c"
      },
      "outputs": [
        {
          "data": {
            "text/html": [
              "<div>\n",
              "<style scoped>\n",
              "    .dataframe tbody tr th:only-of-type {\n",
              "        vertical-align: middle;\n",
              "    }\n",
              "\n",
              "    .dataframe tbody tr th {\n",
              "        vertical-align: top;\n",
              "    }\n",
              "\n",
              "    .dataframe thead th {\n",
              "        text-align: right;\n",
              "    }\n",
              "</style>\n",
              "<table border=\"1\" class=\"dataframe\">\n",
              "  <thead>\n",
              "    <tr style=\"text-align: right;\">\n",
              "      <th></th>\n",
              "      <th>Student_ID</th>\n",
              "      <th>Age</th>\n",
              "    </tr>\n",
              "  </thead>\n",
              "  <tbody>\n",
              "    <tr>\n",
              "      <th>count</th>\n",
              "      <td>10.00000</td>\n",
              "      <td>9.000000</td>\n",
              "    </tr>\n",
              "    <tr>\n",
              "      <th>mean</th>\n",
              "      <td>5.50000</td>\n",
              "      <td>19.555556</td>\n",
              "    </tr>\n",
              "    <tr>\n",
              "      <th>std</th>\n",
              "      <td>3.02765</td>\n",
              "      <td>1.130388</td>\n",
              "    </tr>\n",
              "    <tr>\n",
              "      <th>min</th>\n",
              "      <td>1.00000</td>\n",
              "      <td>18.000000</td>\n",
              "    </tr>\n",
              "    <tr>\n",
              "      <th>25%</th>\n",
              "      <td>3.25000</td>\n",
              "      <td>19.000000</td>\n",
              "    </tr>\n",
              "    <tr>\n",
              "      <th>50%</th>\n",
              "      <td>5.50000</td>\n",
              "      <td>20.000000</td>\n",
              "    </tr>\n",
              "    <tr>\n",
              "      <th>75%</th>\n",
              "      <td>7.75000</td>\n",
              "      <td>20.000000</td>\n",
              "    </tr>\n",
              "    <tr>\n",
              "      <th>max</th>\n",
              "      <td>10.00000</td>\n",
              "      <td>21.000000</td>\n",
              "    </tr>\n",
              "  </tbody>\n",
              "</table>\n",
              "</div>"
            ],
            "text/plain": [
              "       Student_ID        Age\n",
              "count    10.00000   9.000000\n",
              "mean      5.50000  19.555556\n",
              "std       3.02765   1.130388\n",
              "min       1.00000  18.000000\n",
              "25%       3.25000  19.000000\n",
              "50%       5.50000  20.000000\n",
              "75%       7.75000  20.000000\n",
              "max      10.00000  21.000000"
            ]
          },
          "execution_count": 7,
          "metadata": {},
          "output_type": "execute_result"
        }
      ],
      "source": [
        "df.describe()"
      ]
    },
    {
      "cell_type": "markdown",
      "metadata": {
        "id": "S6Yo-h19-kFm"
      },
      "source": [
        "Task 4- \n",
        "check the 4th index observation with 'loc' slicing operator."
      ]
    },
    {
      "cell_type": "code",
      "execution_count": 8,
      "metadata": {
        "colab": {
          "base_uri": "https://localhost:8080/"
        },
        "id": "NZ5HYZDF-mCG",
        "outputId": "235858bb-4029-437e-e434-f3a2907fc3ae"
      },
      "outputs": [
        {
          "data": {
            "text/plain": [
              "Name          Shobith\n",
              "Student_ID          5\n",
              "University       BITS\n",
              "Age              20.0\n",
              "Branch            BAI\n",
              "Name: 4, dtype: object"
            ]
          },
          "execution_count": 8,
          "metadata": {},
          "output_type": "execute_result"
        }
      ],
      "source": [
        "df.loc[4]"
      ]
    },
    {
      "cell_type": "markdown",
      "metadata": {
        "id": "fmGrHG5X-zfs"
      },
      "source": [
        "Task 5 -\n",
        " i. Check the null values in your 'df'\n"
      ]
    },
    {
      "cell_type": "code",
      "execution_count": 9,
      "metadata": {
        "colab": {
          "base_uri": "https://localhost:8080/"
        },
        "id": "z9bbP6QV-zMf",
        "outputId": "7b83e1e8-216d-4abd-b7f6-daf0de93172b"
      },
      "outputs": [
        {
          "data": {
            "text/plain": [
              "Name          0\n",
              "Student_ID    0\n",
              "University    0\n",
              "Age           1\n",
              "Branch        0\n",
              "dtype: int64"
            ]
          },
          "execution_count": 9,
          "metadata": {},
          "output_type": "execute_result"
        }
      ],
      "source": [
        "df.isnull().sum()"
      ]
    },
    {
      "cell_type": "markdown",
      "metadata": {
        "id": "fQfeLx6U_LIt"
      },
      "source": [
        "ii. Filling null values"
      ]
    },
    {
      "cell_type": "code",
      "execution_count": 10,
      "metadata": {
        "colab": {
          "base_uri": "https://localhost:8080/",
          "height": 363
        },
        "id": "mEbN6YLX_N6S",
        "outputId": "c789056a-9bcb-450a-c771-d98bbca846d8"
      },
      "outputs": [
        {
          "data": {
            "text/html": [
              "<div>\n",
              "<style scoped>\n",
              "    .dataframe tbody tr th:only-of-type {\n",
              "        vertical-align: middle;\n",
              "    }\n",
              "\n",
              "    .dataframe tbody tr th {\n",
              "        vertical-align: top;\n",
              "    }\n",
              "\n",
              "    .dataframe thead th {\n",
              "        text-align: right;\n",
              "    }\n",
              "</style>\n",
              "<table border=\"1\" class=\"dataframe\">\n",
              "  <thead>\n",
              "    <tr style=\"text-align: right;\">\n",
              "      <th></th>\n",
              "      <th>Name</th>\n",
              "      <th>Student_ID</th>\n",
              "      <th>University</th>\n",
              "      <th>Age</th>\n",
              "      <th>Branch</th>\n",
              "    </tr>\n",
              "  </thead>\n",
              "  <tbody>\n",
              "    <tr>\n",
              "      <th>0</th>\n",
              "      <td>Vyas</td>\n",
              "      <td>1</td>\n",
              "      <td>VIT</td>\n",
              "      <td>18.000000</td>\n",
              "      <td>BAI</td>\n",
              "    </tr>\n",
              "    <tr>\n",
              "      <th>1</th>\n",
              "      <td>Hanuma</td>\n",
              "      <td>2</td>\n",
              "      <td>IIT</td>\n",
              "      <td>19.000000</td>\n",
              "      <td>CSE</td>\n",
              "    </tr>\n",
              "    <tr>\n",
              "      <th>2</th>\n",
              "      <td>Aditya</td>\n",
              "      <td>3</td>\n",
              "      <td>SRM</td>\n",
              "      <td>20.000000</td>\n",
              "      <td>BPS</td>\n",
              "    </tr>\n",
              "    <tr>\n",
              "      <th>3</th>\n",
              "      <td>Yashodhan</td>\n",
              "      <td>4</td>\n",
              "      <td>BITS</td>\n",
              "      <td>21.000000</td>\n",
              "      <td>BMS</td>\n",
              "    </tr>\n",
              "    <tr>\n",
              "      <th>4</th>\n",
              "      <td>Shobith</td>\n",
              "      <td>5</td>\n",
              "      <td>BITS</td>\n",
              "      <td>20.000000</td>\n",
              "      <td>BAI</td>\n",
              "    </tr>\n",
              "    <tr>\n",
              "      <th>5</th>\n",
              "      <td>Aasrith</td>\n",
              "      <td>6</td>\n",
              "      <td>VIT</td>\n",
              "      <td>18.000000</td>\n",
              "      <td>BAI</td>\n",
              "    </tr>\n",
              "    <tr>\n",
              "      <th>6</th>\n",
              "      <td>Nidhish</td>\n",
              "      <td>7</td>\n",
              "      <td>IIT</td>\n",
              "      <td>19.000000</td>\n",
              "      <td>CSE</td>\n",
              "    </tr>\n",
              "    <tr>\n",
              "      <th>7</th>\n",
              "      <td>Hrishi</td>\n",
              "      <td>8</td>\n",
              "      <td>SRM</td>\n",
              "      <td>20.000000</td>\n",
              "      <td>BPS</td>\n",
              "    </tr>\n",
              "    <tr>\n",
              "      <th>8</th>\n",
              "      <td>Vignesh</td>\n",
              "      <td>9</td>\n",
              "      <td>VIT</td>\n",
              "      <td>21.000000</td>\n",
              "      <td>BMS</td>\n",
              "    </tr>\n",
              "    <tr>\n",
              "      <th>9</th>\n",
              "      <td>Charan</td>\n",
              "      <td>10</td>\n",
              "      <td>IIT</td>\n",
              "      <td>19.555556</td>\n",
              "      <td>BRS</td>\n",
              "    </tr>\n",
              "  </tbody>\n",
              "</table>\n",
              "</div>"
            ],
            "text/plain": [
              "        Name  Student_ID University        Age Branch\n",
              "0       Vyas           1        VIT  18.000000    BAI\n",
              "1     Hanuma           2        IIT  19.000000    CSE\n",
              "2     Aditya           3        SRM  20.000000    BPS\n",
              "3  Yashodhan           4       BITS  21.000000    BMS\n",
              "4    Shobith           5       BITS  20.000000    BAI\n",
              "5    Aasrith           6        VIT  18.000000    BAI\n",
              "6    Nidhish           7        IIT  19.000000    CSE\n",
              "7     Hrishi           8        SRM  20.000000    BPS\n",
              "8    Vignesh           9        VIT  21.000000    BMS\n",
              "9     Charan          10        IIT  19.555556    BRS"
            ]
          },
          "execution_count": 10,
          "metadata": {},
          "output_type": "execute_result"
        }
      ],
      "source": [
        "df.Age=df.Age.fillna(df.Age.mean())\n",
        "df"
      ]
    }
  ],
  "metadata": {
    "colab": {
      "provenance": []
    },
    "kernelspec": {
      "display_name": "Python 3",
      "name": "python3"
    },
    "language_info": {
      "codemirror_mode": {
        "name": "ipython",
        "version": 3
      },
      "file_extension": ".py",
      "mimetype": "text/x-python",
      "name": "python",
      "nbconvert_exporter": "python",
      "pygments_lexer": "ipython3",
      "version": "3.11.5"
    }
  },
  "nbformat": 4,
  "nbformat_minor": 0
}
